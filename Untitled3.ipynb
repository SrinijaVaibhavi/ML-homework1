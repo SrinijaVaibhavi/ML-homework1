{
  "nbformat": 4,
  "nbformat_minor": 0,
  "metadata": {
    "colab": {
      "provenance": [],
      "authorship_tag": "ABX9TyNhd56oDe7XMNSUoal4lmvF",
      "include_colab_link": true
    },
    "kernelspec": {
      "name": "python3",
      "display_name": "Python 3"
    },
    "language_info": {
      "name": "python"
    }
  },
  "cells": [
    {
      "cell_type": "markdown",
      "metadata": {
        "id": "view-in-github",
        "colab_type": "text"
      },
      "source": [
        "<a href=\"https://colab.research.google.com/github/SrinijaVaibhavi/ML-homework1/blob/main/Untitled3.ipynb\" target=\"_parent\"><img src=\"https://colab.research.google.com/assets/colab-badge.svg\" alt=\"Open In Colab\"/></a>"
      ]
    },
    {
      "cell_type": "code",
      "source": [
        "import numpy as np\n",
        "from matplotlib import pyplot as plt\n",
        "from numpy import random\n",
        "import time\n",
        "import sys\n",
        "import pandas as pd\n",
        "from numpy.linalg import norm\n",
        "from scipy.spatial import distance\n",
        "from sklearn import datasets\n",
        "from sklearn.metrics import accuracy_score\n",
        "from collections import Counter"
      ],
      "metadata": {
        "id": "rZRbxzEnxk8v"
      },
      "execution_count": 1,
      "outputs": []
    },
    {
      "cell_type": "code",
      "source": [
        "def distance(x, y, method=\"Euclidean\"):\n",
        "    if method == \"Euclidean\":\n",
        "      return norm(x - y)\n",
        "    elif method == \"Cosine\":\n",
        "      return (1 - ((np.dot(x, y) / (norm(x) * norm(y)))))\n",
        "    elif method == \"Jarcard\":\n",
        "      return (1 - ((np.sum(np.minimum(x, y)) / np.sum(np.maximum(x, y)))))"
      ],
      "metadata": {
        "id": "V7K2EVWryBR3"
      },
      "execution_count": 2,
      "outputs": []
    },
    {
      "cell_type": "code",
      "source": [
        "def meanInstance(rowList):\n",
        "    numRows = len(rowList)\n",
        "    if (numRows == 0):\n",
        "        return\n",
        "    means = np.mean(rowList, axis=0)\n",
        "    return means"
      ],
      "metadata": {
        "id": "WQJPYWY4yUAk"
      },
      "execution_count": 3,
      "outputs": []
    },
    {
      "cell_type": "code",
      "source": [
        "def assignAll(data, centroids, method=\"Euclidean\"):\n",
        "    clusters = []\n",
        "    for i in range(len(centroids)):\n",
        "        clusters.append([])\n",
        "\n",
        "    for row in data:\n",
        "        clusterIndex = assign(row, centroids, method)\n",
        "        clusters[clusterIndex].append(row)\n",
        "\n",
        "    for i in range(len(clusters)):\n",
        "        clusters[i] = np.array(clusters[i])\n",
        "\n",
        "    return clusters"
      ],
      "metadata": {
        "id": "8cZQHJdiyfTr"
      },
      "execution_count": 5,
      "outputs": []
    },
    {
      "cell_type": "code",
      "source": [
        "def assign (row, centroids, method=\"Euclidean\"):\n",
        "    minDistance = distance(row, centroids[0], method)\n",
        "    minDistanceIndex = 0\n",
        "    for i in range(1, len(centroids)):\n",
        "        d = distance(row, centroids[i], method)\n",
        "        if (d < minDistance):\n",
        "            minDistance = d\n",
        "            minDistanceIndex = i\n",
        "    return minDistanceIndex"
      ],
      "metadata": {
        "id": "PieBDzELy-bw"
      },
      "execution_count": 6,
      "outputs": []
    },
    {
      "cell_type": "code",
      "source": [
        "def computeCentroids(clusters):\n",
        "    centroids = np.empty((len(clusters), len(clusters[0][0])))\n",
        "    for i in range(len(clusters)):\n",
        "        centroid = meanInstance(clusters[i])\n",
        "        centroids[i] = centroid\n",
        "    return centroids"
      ],
      "metadata": {
        "id": "qJnhsRsazBbc"
      },
      "execution_count": 7,
      "outputs": []
    },
    {
      "cell_type": "code",
      "source": [
        "def computeSSE(clusters, centroids, method=\"Euclidean\", returnSSEs=False):\n",
        "    results = []\n",
        "    for i in range(len(centroids)):\n",
        "        centroid = np.copy(centroids[i])\n",
        "        cluster = np.copy(clusters[i])\n",
        "        result = 0\n",
        "        for instance in cluster:\n",
        "            result += distance(centroid, instance) ** 2\n",
        "        results.append(result)\n",
        "\n",
        "    if returnSSEs:\n",
        "        return results\n",
        "    else:\n",
        "        return sum(results)"
      ],
      "metadata": {
        "id": "aVA6f0lUyzDL"
      },
      "execution_count": 8,
      "outputs": []
    },
    {
      "cell_type": "code",
      "source": [
        "def getAccuracy(data, labels, centroids, method=\"Euclidean\"):\n",
        "    assigned = np.apply_along_axis(assign, axis=1, arr=data, centroids=centroids, method=method)\n",
        "    centroid_label_count = np.zeros((len(centroids), 10))\n",
        "    for i in range(len(labels)):\n",
        "        centroid_label_count[int(assigned[i])][int(labels[i])] += 1\n",
        "    centroid_labels = np.argmax(centroid_label_count, axis=1)\n",
        "    correct = 0\n",
        "    total = 0\n",
        "    for i in range(len(assigned)):\n",
        "        if centroid_labels[int(assigned[i])] == int(labels[i]):\n",
        "            correct += 1\n",
        "        total += 1\n",
        "    return correct / total"
      ],
      "metadata": {
        "id": "2aoHviEUzEkQ"
      },
      "execution_count": 9,
      "outputs": []
    },
    {
      "cell_type": "code",
      "source": [
        "def fixEmpty(clusters, centroids):\n",
        "    newCentroids = np.empty((len(clusters), len(clusters[0][0])))\n",
        "    didFix = False\n",
        "    for i in range(len(centroids)):\n",
        "        centroid = centroids[i]\n",
        "        cluster = clusters[i]\n",
        "        if len(cluster) == 0:\n",
        "            print(\"Empty Cluster found\")\n",
        "            didFix = True\n",
        "            SSEs = computeSSE(clusters, centroids, returnSSEs=True)\n",
        "            worstSSE = SSEs.index(max(SSEs))\n",
        "            newCentroids[i] = random.choice(clusters[worstSSE])\n",
        "        else:\n",
        "            newCentroids[i] = centroids[i]\n",
        "\n",
        "    if didFix:\n",
        "        return newCentroids\n",
        "    else:\n",
        "        return False"
      ],
      "metadata": {
        "id": "t-2UnpvgzElo"
      },
      "execution_count": 10,
      "outputs": []
    },
    {
      "cell_type": "code",
      "source": [
        "def kmeans(rawData, k, method=\"Euclidean\", condition=\"noChange\", startingCentroids=None):\n",
        "    result = {}\n",
        "    data = np.copy(rawData)\n",
        "    starttime = time.time()\n",
        "    if startingCentroids is not None:\n",
        "        centroids = startingCentroids\n",
        "    else:\n",
        "        centroids = np.copy(data[np.random.choice(data.shape[0], k, replace=False)])\n",
        "\n",
        "    prev_centroids = np.ones_like(centroids)\n",
        "    iteration = 0\n",
        "    prev_SSE = sys.maxsize\n",
        "    SSE = sys.maxsize - 1\n",
        "\n",
        "    if condition == \"noChange\":\n",
        "        while not np.array_equal(centroids, prev_centroids):\n",
        "            iteration += 1\n",
        "            prev_centroids = np.copy(centroids)\n",
        "            clusters = assignAll(data, centroids, method)\n",
        "            centroids = fixEmpty(clusters, centroids)\n",
        "            if centroids:\n",
        "                clusters = assignAll(data, centroids, method)\n",
        "            centroids = computeCentroids(clusters)\n",
        "\n",
        "    elif condition == \"SSE\":\n",
        "        while SSE < prev_SSE:\n",
        "            iteration += 1\n",
        "            clusters = assignAll(data, centroids, method)\n",
        "            centroids = fixEmpty(clusters, centroids)\n",
        "            if centroids:\n",
        "                clusters = assignAll(data, centroids, method)\n",
        "            centroids = computeCentroids(clusters)\n",
        "            prev_SSE = SSE\n",
        "            SSE = computeSSE(clusters, centroids, method)\n",
        "\n",
        "    elif condition == \"Iterations\":\n",
        "        while iteration < 50:\n",
        "            iteration += 1\n",
        "            clusters = assignAll(data, centroids, method)\n",
        "            centroids = fixEmpty(clusters, centroids)\n",
        "            if centroids:\n",
        "                clusters = assignAll(data, centroids, method)\n",
        "            centroids = computeCentroids(clusters)\n",
        "\n",
        "    elif condition == \"All\":\n",
        "        while (not np.array_equal(centroids, prev_centroids)) and SSE < prev_SSE and iteration < 100:\n",
        "            iteration += 1\n",
        "            prev_centroids = np.copy(centroids)\n",
        "            clusters = assignAll(data, centroids, method)\n",
        "            centroids = fixEmpty(clusters, centroids)\n",
        "            if centroids:\n",
        "                clusters = assignAll(data, centroids, method)\n",
        "            centroids = computeCentroids(clusters)\n",
        "            prev_SSE = SSE\n",
        "            SSE = computeSSE(clusters, centroids, method)\n",
        "\n",
        "    SSE = computeSSE(clusters, centroids, method)\n",
        "    endtime = time.time()\n",
        "    result[\"clusters\"] = clusters\n",
        "    result[\"centroids\"] = centroids\n",
        "    result[\"SSE\"] = SSE\n",
        "    result[\"numIterations\"] = iteration\n",
        "    result[\"time\"] = endtime - starttime\n",
        "    return result"
      ],
      "metadata": {
        "id": "PIJWc_FQzEqS"
      },
      "execution_count": 15,
      "outputs": []
    },
    {
      "cell_type": "code",
      "source": [
        "label = pd.read_csv(\"/content/label.csv\").to_numpy()\n",
        "data = pd.read_csv(\"/content/data.csv\").to_numpy()\n",
        "methods = [\"Euclidean\", \"Cosine\", \"Jarcard\"]\n",
        "conditions = [\"noChange\", \"SSE\", \"Iterations\"]\n",
        "k = 10\n",
        "startCentroids = np.copy(data[np.random.choice(data.shape[0], k, replace=False)])"
      ],
      "metadata": {
        "id": "9nfVf5lszEr1"
      },
      "execution_count": 16,
      "outputs": []
    },
    {
      "cell_type": "code",
      "source": [
        "for method in methods:\n",
        "    results = kmeans(data, k, method=method, condition=\"All\", startingCentroids=startCentroids)\n",
        "    print(method + \": \")\n",
        "    print(f\"    SSE: {results['SSE']:,.2f}\")\n",
        "    print(f\"    Number of Iterations: {results['numIterations']}\")\n",
        "    acc = getAccuracy(data, label, results[\"centroids\"], method=method)\n",
        "    print(f\"    Accuracy: {acc * 100:,.2f}\")\n",
        "    print(f\"    Time: {results['time']}\")"
      ],
      "metadata": {
        "colab": {
          "base_uri": "https://localhost:8080/"
        },
        "id": "-eNE0coPzEwT",
        "outputId": "2d092a32-820a-4479-c07f-970dabb0e460"
      },
      "execution_count": 20,
      "outputs": [
        {
          "output_type": "stream",
          "name": "stdout",
          "text": [
            "Euclidean: \n",
            "    SSE: 25,321,880,809.69\n",
            "    Number of Iterations: 64\n",
            "    Accuracy: 60.07\n",
            "    Time: 70.63834857940674\n",
            "Cosine: \n",
            "    SSE: 25,461,911,383.08\n",
            "    Number of Iterations: 66\n",
            "    Accuracy: 57.35\n",
            "    Time: 130.9894139766693\n",
            "Jarcard: \n",
            "    SSE: 25,424,909,025.17\n",
            "    Number of Iterations: 17\n",
            "    Accuracy: 61.21\n",
            "    Time: 41.732789039611816\n"
          ]
        }
      ]
    },
    {
      "cell_type": "code",
      "source": [
        "for method in methods:\n",
        "    for condition in conditions:\n",
        "        results = kmeans(data, k, method=method, condition=condition, startingCentroids=startCentroids)\n",
        "        print(f\"{method} with {condition}\")\n",
        "        print(f\"    SSE: {results['SSE']:,.2f}\")\n",
        "        print(f\"    NumIterations: {results['numIterations']}\")\n",
        "        acc = getAccuracy(data, label, results[\"centroids\"], method=method)\n",
        "        print(f\"    Accuracy: {acc * 100:,.2f}\")\n",
        "        print(f\"    Time : {results['time']}\")"
      ],
      "metadata": {
        "colab": {
          "base_uri": "https://localhost:8080/"
        },
        "id": "qEyiQjSazExf",
        "outputId": "b09a3464-77a2-4a2d-f358-b6f43dd87fc0"
      },
      "execution_count": 19,
      "outputs": [
        {
          "output_type": "stream",
          "name": "stdout",
          "text": [
            "Euclidean with noChange\n",
            "    SSE: 25,321,880,809.69\n",
            "    NumIterations: 64\n",
            "    Accuracy: 60.07\n",
            "    Time : 64.53772902488708\n",
            "Euclidean with SSE\n",
            "    SSE: 25,321,880,809.69\n",
            "    NumIterations: 64\n",
            "    Accuracy: 60.07\n",
            "    Time : 70.26626300811768\n",
            "Euclidean with Iterations\n",
            "    SSE: 25,323,384,072.90\n",
            "    NumIterations: 50\n",
            "    Accuracy: 60.11\n",
            "    Time : 53.09245324134827\n",
            "Cosine with noChange\n",
            "    SSE: 25,415,672,578.74\n",
            "    NumIterations: 138\n",
            "    Accuracy: 61.38\n",
            "    Time : 269.9165675640106\n",
            "Cosine with SSE\n",
            "    SSE: 25,461,911,383.08\n",
            "    NumIterations: 66\n",
            "    Accuracy: 57.35\n",
            "    Time : 133.40766072273254\n",
            "Cosine with Iterations\n",
            "    SSE: 25,495,728,088.90\n",
            "    NumIterations: 50\n",
            "    Accuracy: 57.50\n",
            "    Time : 95.57638955116272\n",
            "Jarcard with noChange\n",
            "    SSE: 25,413,036,076.00\n",
            "    NumIterations: 64\n",
            "    Accuracy: 60.29\n",
            "    Time : 148.35587549209595\n",
            "Jarcard with SSE\n",
            "    SSE: 25,424,909,025.17\n",
            "    NumIterations: 17\n",
            "    Accuracy: 61.21\n",
            "    Time : 41.29684901237488\n",
            "Jarcard with Iterations\n",
            "    SSE: 25,414,267,846.30\n",
            "    NumIterations: 50\n",
            "    Accuracy: 60.32\n",
            "    Time : 112.20642304420471\n"
          ]
        }
      ]
    },
    {
      "cell_type": "code",
      "source": [],
      "metadata": {
        "id": "L7Ei75sNzE2e"
      },
      "execution_count": null,
      "outputs": []
    },
    {
      "cell_type": "code",
      "source": [],
      "metadata": {
        "id": "v-WQCNVizE4Y"
      },
      "execution_count": null,
      "outputs": []
    },
    {
      "cell_type": "code",
      "source": [],
      "metadata": {
        "id": "nJN41egtzE8J"
      },
      "execution_count": null,
      "outputs": []
    }
  ]
}